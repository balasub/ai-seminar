{
  "nbformat": 4,
  "nbformat_minor": 0,
  "metadata": {
    "colab": {
      "name": "vae.ipynb",
      "provenance": [],
      "collapsed_sections": []
    },
    "kernelspec": {
      "name": "python3",
      "display_name": "Python 3"
    }
  },
  "cells": [
    {
      "cell_type": "code",
      "metadata": {
        "id": "nzdcpXpICR-f",
        "colab_type": "code",
        "colab": {}
      },
      "source": [
        "import keras\n",
        "from keras.layers import Lambda, Input, Dense\n",
        "from keras.models import Model\n",
        "from keras.datasets import mnist\n",
        "from keras.losses import binary_crossentropy\n",
        "from keras import backend as K\n",
        "\n",
        "import numpy as np\n",
        "import matplotlib.pyplot as plt"
      ],
      "execution_count": 6,
      "outputs": []
    },
    {
      "cell_type": "code",
      "metadata": {
        "id": "VnLCzaVKCbRB",
        "colab_type": "code",
        "colab": {}
      },
      "source": [
        "# MNIST dataset\n",
        "(x_train, _), (x_test, _) = mnist.load_data()\n",
        "\n",
        "x_train = np.reshape(x_train, [60000, 784])\n",
        "x_test = np.reshape(x_test, [10000, 784])\n",
        "x_train = x_train.astype('float32') / 255.\n",
        "x_test = x_test.astype('float32') / 255.\n",
        "\n",
        "def sampling(args):\n",
        "    z_mean, z_log_var = args\n",
        "    batch = K.shape(z_mean)[0]\n",
        "    dim = K.int_shape(z_mean)[1]\n",
        "    epsilon = K.random_normal(shape=(batch, dim))\n",
        "    return z_mean + K.exp(0.5 * z_log_var) * epsilon\n",
        "\n",
        "# VAE model = encoder + decoder\n",
        "# build encoder model\n",
        "inputs = Input(shape=(784, ), name='encoder_input')\n",
        "x = Dense(512, activation='relu')(inputs)\n",
        "z_mean = Dense(2, name='z_mean')(x)\n",
        "z_log_var = Dense(2, name='z_log_var')(x)\n",
        "z = Lambda(sampling, output_shape=(2,), name='z')([z_mean, z_log_var])\n",
        "\n",
        "# instantiate encoder model\n",
        "encoder = Model(inputs, [z_mean, z_log_var, z], name='encoder')\n",
        "# build decoder model\n",
        "latent_inputs = Input(shape=(2,), name='z_sampling')\n",
        "x = Dense(512, activation='relu')(latent_inputs)\n",
        "outputs = Dense(784, activation='sigmoid')(x)\n",
        "# instantiate decoder model\n",
        "decoder = Model(latent_inputs, outputs, name='decoder')\n",
        "\n",
        "# instantiate VAE model\n",
        "outputs = decoder(encoder(inputs)[2])\n",
        "vae = Model(inputs, outputs, name='vae_mlp')"
      ],
      "execution_count": 7,
      "outputs": []
    },
    {
      "cell_type": "code",
      "metadata": {
        "id": "6WoYnQ2vWw37",
        "colab_type": "code",
        "colab": {}
      },
      "source": [
        "# VAE loss = mse_loss or xent_loss + kl_loss\n",
        "reconstruction_loss = binary_crossentropy(inputs, outputs) * 784\n",
        "\n",
        "kl_loss = 1 + z_log_var - K.square(z_mean) - K.exp(z_log_var)\n",
        "kl_loss = K.sum(kl_loss, axis=-1)*(-0.5)\n",
        "\n",
        "vae_loss = K.mean(reconstruction_loss + kl_loss)\n",
        "vae.add_loss(vae_loss)\n",
        "vae.compile(optimizer='adam')"
      ],
      "execution_count": null,
      "outputs": []
    },
    {
      "cell_type": "code",
      "metadata": {
        "id": "0JMG5zW-Q-3u",
        "colab_type": "code",
        "colab": {
          "base_uri": "https://localhost:8080/",
          "height": 1000
        },
        "outputId": "cc607945-b0e6-48cd-e318-56509310fcd9"
      },
      "source": [
        "# train the autoencoder\n",
        "vae.fit(x_train,\n",
        "        epochs=50,\n",
        "        batch_size=128,\n",
        "        validation_data=(x_test, None))"
      ],
      "execution_count": 8,
      "outputs": [
        {
          "output_type": "stream",
          "text": [
            "/usr/local/lib/python3.6/dist-packages/keras/engine/training_utils.py:819: UserWarning: Output decoder missing from loss dictionary. We assume this was done on purpose. The fit and evaluate APIs will not be expecting any data to be passed to decoder.\n",
            "  'be expecting any data to be passed to {0}.'.format(name))\n"
          ],
          "name": "stderr"
        },
        {
          "output_type": "stream",
          "text": [
            "Train on 60000 samples, validate on 10000 samples\n",
            "Epoch 1/50\n",
            "60000/60000 [==============================] - 14s 232us/step - loss: 198.9698 - val_loss: 174.0658\n",
            "Epoch 2/50\n",
            "60000/60000 [==============================] - 13s 223us/step - loss: 170.7867 - val_loss: 167.3984\n",
            "Epoch 3/50\n",
            "60000/60000 [==============================] - 13s 222us/step - loss: 165.6201 - val_loss: 163.3487\n",
            "Epoch 4/50\n",
            "60000/60000 [==============================] - 13s 223us/step - loss: 162.2058 - val_loss: 160.6898\n",
            "Epoch 5/50\n",
            "60000/60000 [==============================] - 13s 223us/step - loss: 160.0699 - val_loss: 159.2391\n",
            "Epoch 6/50\n",
            "60000/60000 [==============================] - 13s 224us/step - loss: 158.5908 - val_loss: 158.0246\n",
            "Epoch 7/50\n",
            "60000/60000 [==============================] - 13s 222us/step - loss: 157.4262 - val_loss: 157.4132\n",
            "Epoch 8/50\n",
            "60000/60000 [==============================] - 13s 220us/step - loss: 156.5384 - val_loss: 156.3530\n",
            "Epoch 9/50\n",
            "60000/60000 [==============================] - 13s 218us/step - loss: 155.7210 - val_loss: 155.9271\n",
            "Epoch 10/50\n",
            "60000/60000 [==============================] - 13s 220us/step - loss: 155.0308 - val_loss: 155.2988\n",
            "Epoch 11/50\n",
            "60000/60000 [==============================] - 13s 217us/step - loss: 154.3679 - val_loss: 154.7108\n",
            "Epoch 12/50\n",
            "60000/60000 [==============================] - 13s 216us/step - loss: 153.7677 - val_loss: 154.3229\n",
            "Epoch 13/50\n",
            "60000/60000 [==============================] - 13s 218us/step - loss: 153.2029 - val_loss: 154.0794\n",
            "Epoch 14/50\n",
            "60000/60000 [==============================] - 13s 218us/step - loss: 152.7498 - val_loss: 153.4220\n",
            "Epoch 15/50\n",
            "60000/60000 [==============================] - 13s 220us/step - loss: 152.2137 - val_loss: 153.2595\n",
            "Epoch 16/50\n",
            "60000/60000 [==============================] - 13s 218us/step - loss: 151.7724 - val_loss: 152.6796\n",
            "Epoch 17/50\n",
            "60000/60000 [==============================] - 13s 218us/step - loss: 151.3753 - val_loss: 152.2634\n",
            "Epoch 18/50\n",
            "60000/60000 [==============================] - 13s 219us/step - loss: 151.0102 - val_loss: 152.3400\n",
            "Epoch 19/50\n",
            "60000/60000 [==============================] - 13s 219us/step - loss: 150.6425 - val_loss: 151.9980\n",
            "Epoch 20/50\n",
            "60000/60000 [==============================] - 13s 220us/step - loss: 150.3087 - val_loss: 151.6340\n",
            "Epoch 21/50\n",
            "60000/60000 [==============================] - 13s 223us/step - loss: 149.9717 - val_loss: 151.4053\n",
            "Epoch 22/50\n",
            "60000/60000 [==============================] - 13s 217us/step - loss: 149.6346 - val_loss: 151.3647\n",
            "Epoch 23/50\n",
            "60000/60000 [==============================] - 13s 215us/step - loss: 149.3938 - val_loss: 150.9589\n",
            "Epoch 24/50\n",
            "60000/60000 [==============================] - 13s 216us/step - loss: 149.1045 - val_loss: 150.8904\n",
            "Epoch 25/50\n",
            "60000/60000 [==============================] - 13s 217us/step - loss: 148.8915 - val_loss: 150.9730\n",
            "Epoch 26/50\n",
            "60000/60000 [==============================] - 13s 216us/step - loss: 148.6069 - val_loss: 150.5543\n",
            "Epoch 27/50\n",
            "60000/60000 [==============================] - 13s 216us/step - loss: 148.3617 - val_loss: 150.6350\n",
            "Epoch 28/50\n",
            "60000/60000 [==============================] - 13s 218us/step - loss: 148.1753 - val_loss: 150.3051\n",
            "Epoch 29/50\n",
            "60000/60000 [==============================] - 13s 216us/step - loss: 147.9698 - val_loss: 150.1609\n",
            "Epoch 30/50\n",
            "60000/60000 [==============================] - 13s 216us/step - loss: 147.7724 - val_loss: 149.8966\n",
            "Epoch 31/50\n",
            "60000/60000 [==============================] - 13s 216us/step - loss: 147.5611 - val_loss: 149.8795\n",
            "Epoch 32/50\n",
            "60000/60000 [==============================] - 13s 214us/step - loss: 147.4307 - val_loss: 149.8245\n",
            "Epoch 33/50\n",
            "60000/60000 [==============================] - 13s 218us/step - loss: 147.2158 - val_loss: 149.7996\n",
            "Epoch 34/50\n",
            "60000/60000 [==============================] - 13s 215us/step - loss: 147.0176 - val_loss: 149.9469\n",
            "Epoch 35/50\n",
            "60000/60000 [==============================] - 13s 216us/step - loss: 146.8577 - val_loss: 149.6944\n",
            "Epoch 36/50\n",
            "60000/60000 [==============================] - 13s 215us/step - loss: 146.7518 - val_loss: 149.4186\n",
            "Epoch 37/50\n",
            "60000/60000 [==============================] - 13s 214us/step - loss: 146.5554 - val_loss: 149.4122\n",
            "Epoch 38/50\n",
            "60000/60000 [==============================] - 13s 214us/step - loss: 146.4773 - val_loss: 149.7762\n",
            "Epoch 39/50\n",
            "60000/60000 [==============================] - 13s 214us/step - loss: 146.3052 - val_loss: 149.3730\n",
            "Epoch 40/50\n",
            "60000/60000 [==============================] - 13s 216us/step - loss: 146.1531 - val_loss: 149.4910\n",
            "Epoch 41/50\n",
            "60000/60000 [==============================] - 13s 215us/step - loss: 146.0227 - val_loss: 149.3480\n",
            "Epoch 42/50\n",
            "60000/60000 [==============================] - 13s 215us/step - loss: 145.8989 - val_loss: 149.3663\n",
            "Epoch 43/50\n",
            "60000/60000 [==============================] - 13s 215us/step - loss: 145.8087 - val_loss: 149.1855\n",
            "Epoch 44/50\n",
            "60000/60000 [==============================] - 13s 217us/step - loss: 145.6913 - val_loss: 149.3420\n",
            "Epoch 45/50\n",
            "60000/60000 [==============================] - 13s 220us/step - loss: 145.5636 - val_loss: 149.1410\n",
            "Epoch 46/50\n",
            "60000/60000 [==============================] - 13s 212us/step - loss: 145.4245 - val_loss: 149.1533\n",
            "Epoch 47/50\n",
            "60000/60000 [==============================] - 13s 213us/step - loss: 145.3657 - val_loss: 149.0805\n",
            "Epoch 48/50\n",
            "60000/60000 [==============================] - 13s 212us/step - loss: 145.2897 - val_loss: 149.3635\n",
            "Epoch 49/50\n",
            "60000/60000 [==============================] - 13s 210us/step - loss: 145.1547 - val_loss: 148.8374\n",
            "Epoch 50/50\n",
            "60000/60000 [==============================] - 13s 212us/step - loss: 145.0585 - val_loss: 149.0456\n"
          ],
          "name": "stdout"
        },
        {
          "output_type": "execute_result",
          "data": {
            "text/plain": [
              "<keras.callbacks.callbacks.History at 0x7f127346eeb8>"
            ]
          },
          "metadata": {
            "tags": []
          },
          "execution_count": 8
        }
      ]
    },
    {
      "cell_type": "code",
      "metadata": {
        "id": "a13fEZIlS-gD",
        "colab_type": "code",
        "colab": {
          "base_uri": "https://localhost:8080/",
          "height": 293
        },
        "outputId": "343478b5-9ca2-4c0b-a4a7-be9436845c6c"
      },
      "source": [
        "x_test_predicted = vae.predict(x_test)\n",
        "\n",
        "n=10\n",
        "plt.figure(figsize=(20,5))\n",
        "for i in range(n):\n",
        "  #original\n",
        "  plt.subplot(2,n,i+1)\n",
        "  plt.imshow(x_test[i].reshape(28,28))\n",
        "  plt.gray()\n",
        "\n",
        "  #reconstructed\n",
        "  plt.subplot(2,n,i+1+n)\n",
        "  plt.imshow(x_test_predicted[i].reshape(28,28))\n",
        "  plt.gray()"
      ],
      "execution_count": 13,
      "outputs": [
        {
          "output_type": "display_data",
          "data": {
            "image/png": "[encoded data removed]",
            "text/plain": [
              "<Figure size 1440x360 with 20 Axes>"
            ]
          },
          "metadata": {
            "tags": [],
            "needs_background": "light"
          }
        }
      ]
    }
  ]
}