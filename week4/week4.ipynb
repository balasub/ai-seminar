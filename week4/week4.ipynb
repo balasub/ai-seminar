{
  "nbformat": 4,
  "nbformat_minor": 0,
  "metadata": {
    "colab": {
      "name": "week4.ipynb",
      "provenance": []
    },
    "kernelspec": {
      "name": "python3",
      "display_name": "Python 3"
    }
  },
  "cells": [
    {
      "cell_type": "markdown",
      "metadata": {
        "id": "OqZ729b-fVwX",
        "colab_type": "text"
      },
      "source": [
        "Code Sample from : https://github.com/ramkatt28/dsi-RameshKattumenu/blob/9de310d18a853b45f8af7e91ad0d4e9dd51e9cc7/week-03/instructor-contributions/NYC/4.3-feature-scaling/code/Feature-Scaling-Solutions.ipynb\n",
        "\n",
        "https://machinelearningmastery.com/prepare-data-machine-learning-python-scikit-learn/\n",
        "\n"
      ]
    },
    {
      "cell_type": "markdown",
      "metadata": {
        "id": "rJYBZzGsin8t",
        "colab_type": "text"
      },
      "source": [
        "\n",
        "\n",
        "# Scikit-learn Min-Max Scaler Example\n",
        "\n"
      ]
    },
    {
      "cell_type": "code",
      "metadata": {
        "id": "a4nX3_o2igMn",
        "colab_type": "code",
        "colab": {
          "base_uri": "https://localhost:8080/",
          "height": 104
        },
        "outputId": "4447832a-8966-468e-bfae-a4e8817e5155"
      },
      "source": [
        "import pandas\n",
        "import scipy\n",
        "import numpy\n",
        "from sklearn.preprocessing import MinMaxScaler\n",
        "url = \"https://raw.githubusercontent.com/jbrownlee/Datasets/master/pima-indians-diabetes.csv\"\n",
        "names = ['preg', 'plas', 'pres', 'skin', 'test', 'mass', 'pedi', 'age', 'class']\n",
        "dataframe = pandas.read_csv(url, names=names)\n",
        "array = dataframe.values\n",
        "# separate array into input and output components\n",
        "X = array[:,0:8]\n",
        "Y = array[:,8]\n",
        "scaler = MinMaxScaler(feature_range=(0, 1))\n",
        "rescaledX = scaler.fit_transform(X)\n",
        "# summarize transformed data\n",
        "numpy.set_printoptions(precision=3)\n",
        "print(rescaledX[0:5,:])"
      ],
      "execution_count": 22,
      "outputs": [
        {
          "output_type": "stream",
          "text": [
            "[[0.353 0.744 0.59  0.354 0.    0.501 0.234 0.483]\n",
            " [0.059 0.427 0.541 0.293 0.    0.396 0.117 0.167]\n",
            " [0.471 0.92  0.525 0.    0.    0.347 0.254 0.183]\n",
            " [0.059 0.447 0.541 0.232 0.111 0.419 0.038 0.   ]\n",
            " [0.    0.688 0.328 0.354 0.199 0.642 0.944 0.2  ]]\n"
          ],
          "name": "stdout"
        }
      ]
    },
    {
      "cell_type": "markdown",
      "metadata": {
        "id": "BMnBNPMQjkCL",
        "colab_type": "text"
      },
      "source": [
        "# Scikit-Learn Standard Scaler Example"
      ]
    },
    {
      "cell_type": "code",
      "metadata": {
        "id": "quQW_oQPiyUE",
        "colab_type": "code",
        "colab": {
          "base_uri": "https://localhost:8080/",
          "height": 139
        },
        "outputId": "644c7c0a-0b23-4801-9300-14530b342dd4"
      },
      "source": [
        "from sklearn.preprocessing import StandardScaler\n",
        "data = [[0, 0], [0, 0], [1, 1], [1, 1]]\n",
        "scaler = StandardScaler()\n",
        "print(scaler.fit(data))\n",
        "\n",
        "print(scaler.mean_)\n",
        "\n",
        "print(scaler.transform(data))\n",
        "print(scaler.transform([[2, 2]]))\n"
      ],
      "execution_count": 23,
      "outputs": [
        {
          "output_type": "stream",
          "text": [
            "StandardScaler(copy=True, with_mean=True, with_std=True)\n",
            "[0.5 0.5]\n",
            "[[-1. -1.]\n",
            " [-1. -1.]\n",
            " [ 1.  1.]\n",
            " [ 1.  1.]]\n",
            "[[3. 3.]]\n"
          ],
          "name": "stdout"
        }
      ]
    },
    {
      "cell_type": "markdown",
      "metadata": {
        "id": "g41Gcb2kj_P5",
        "colab_type": "text"
      },
      "source": [
        "#Real Example using Boston Dataset"
      ]
    },
    {
      "cell_type": "code",
      "metadata": {
        "id": "uX2OOuURjuyL",
        "colab_type": "code",
        "colab": {}
      },
      "source": [
        "%matplotlib inline\n",
        "import matplotlib.pyplot as plt\n",
        "import numpy as np\n",
        "import pandas as pd\n",
        "from sklearn import datasets, linear_model, preprocessing"
      ],
      "execution_count": 0,
      "outputs": []
    },
    {
      "cell_type": "code",
      "metadata": {
        "id": "_Hbdzb51j9xW",
        "colab_type": "code",
        "colab": {
          "base_uri": "https://localhost:8080/",
          "height": 206
        },
        "outputId": "ab1cf4df-5d17-487f-d2f7-6fc266a91fef"
      },
      "source": [
        "# Load the Boston Housing dataset\n",
        "boston = datasets.load_boston()\n",
        "df = pd.DataFrame(boston.data, columns=boston.feature_names)\n",
        "df.head()\n"
      ],
      "execution_count": 25,
      "outputs": [
        {
          "output_type": "execute_result",
          "data": {
            "text/html": [
              "<div>\n",
              "<style scoped>\n",
              "    .dataframe tbody tr th:only-of-type {\n",
              "        vertical-align: middle;\n",
              "    }\n",
              "\n",
              "    .dataframe tbody tr th {\n",
              "        vertical-align: top;\n",
              "    }\n",
              "\n",
              "    .dataframe thead th {\n",
              "        text-align: right;\n",
              "    }\n",
              "</style>\n",
              "<table border=\"1\" class=\"dataframe\">\n",
              "  <thead>\n",
              "    <tr style=\"text-align: right;\">\n",
              "      <th></th>\n",
              "      <th>CRIM</th>\n",
              "      <th>ZN</th>\n",
              "      <th>INDUS</th>\n",
              "      <th>CHAS</th>\n",
              "      <th>NOX</th>\n",
              "      <th>RM</th>\n",
              "      <th>AGE</th>\n",
              "      <th>DIS</th>\n",
              "      <th>RAD</th>\n",
              "      <th>TAX</th>\n",
              "      <th>PTRATIO</th>\n",
              "      <th>B</th>\n",
              "      <th>LSTAT</th>\n",
              "    </tr>\n",
              "  </thead>\n",
              "  <tbody>\n",
              "    <tr>\n",
              "      <th>0</th>\n",
              "      <td>0.00632</td>\n",
              "      <td>18.0</td>\n",
              "      <td>2.31</td>\n",
              "      <td>0.0</td>\n",
              "      <td>0.538</td>\n",
              "      <td>6.575</td>\n",
              "      <td>65.2</td>\n",
              "      <td>4.0900</td>\n",
              "      <td>1.0</td>\n",
              "      <td>296.0</td>\n",
              "      <td>15.3</td>\n",
              "      <td>396.90</td>\n",
              "      <td>4.98</td>\n",
              "    </tr>\n",
              "    <tr>\n",
              "      <th>1</th>\n",
              "      <td>0.02731</td>\n",
              "      <td>0.0</td>\n",
              "      <td>7.07</td>\n",
              "      <td>0.0</td>\n",
              "      <td>0.469</td>\n",
              "      <td>6.421</td>\n",
              "      <td>78.9</td>\n",
              "      <td>4.9671</td>\n",
              "      <td>2.0</td>\n",
              "      <td>242.0</td>\n",
              "      <td>17.8</td>\n",
              "      <td>396.90</td>\n",
              "      <td>9.14</td>\n",
              "    </tr>\n",
              "    <tr>\n",
              "      <th>2</th>\n",
              "      <td>0.02729</td>\n",
              "      <td>0.0</td>\n",
              "      <td>7.07</td>\n",
              "      <td>0.0</td>\n",
              "      <td>0.469</td>\n",
              "      <td>7.185</td>\n",
              "      <td>61.1</td>\n",
              "      <td>4.9671</td>\n",
              "      <td>2.0</td>\n",
              "      <td>242.0</td>\n",
              "      <td>17.8</td>\n",
              "      <td>392.83</td>\n",
              "      <td>4.03</td>\n",
              "    </tr>\n",
              "    <tr>\n",
              "      <th>3</th>\n",
              "      <td>0.03237</td>\n",
              "      <td>0.0</td>\n",
              "      <td>2.18</td>\n",
              "      <td>0.0</td>\n",
              "      <td>0.458</td>\n",
              "      <td>6.998</td>\n",
              "      <td>45.8</td>\n",
              "      <td>6.0622</td>\n",
              "      <td>3.0</td>\n",
              "      <td>222.0</td>\n",
              "      <td>18.7</td>\n",
              "      <td>394.63</td>\n",
              "      <td>2.94</td>\n",
              "    </tr>\n",
              "    <tr>\n",
              "      <th>4</th>\n",
              "      <td>0.06905</td>\n",
              "      <td>0.0</td>\n",
              "      <td>2.18</td>\n",
              "      <td>0.0</td>\n",
              "      <td>0.458</td>\n",
              "      <td>7.147</td>\n",
              "      <td>54.2</td>\n",
              "      <td>6.0622</td>\n",
              "      <td>3.0</td>\n",
              "      <td>222.0</td>\n",
              "      <td>18.7</td>\n",
              "      <td>396.90</td>\n",
              "      <td>5.33</td>\n",
              "    </tr>\n",
              "  </tbody>\n",
              "</table>\n",
              "</div>"
            ],
            "text/plain": [
              "      CRIM    ZN  INDUS  CHAS    NOX  ...  RAD    TAX  PTRATIO       B  LSTAT\n",
              "0  0.00632  18.0   2.31   0.0  0.538  ...  1.0  296.0     15.3  396.90   4.98\n",
              "1  0.02731   0.0   7.07   0.0  0.469  ...  2.0  242.0     17.8  396.90   9.14\n",
              "2  0.02729   0.0   7.07   0.0  0.469  ...  2.0  242.0     17.8  392.83   4.03\n",
              "3  0.03237   0.0   2.18   0.0  0.458  ...  3.0  222.0     18.7  394.63   2.94\n",
              "4  0.06905   0.0   2.18   0.0  0.458  ...  3.0  222.0     18.7  396.90   5.33\n",
              "\n",
              "[5 rows x 13 columns]"
            ]
          },
          "metadata": {
            "tags": []
          },
          "execution_count": 25
        }
      ]
    },
    {
      "cell_type": "markdown",
      "metadata": {
        "id": "94drzYyNkLt1",
        "colab_type": "text"
      },
      "source": [
        "Scaling the Data\n"
      ]
    },
    {
      "cell_type": "code",
      "metadata": {
        "id": "yCnGWOrSkNgj",
        "colab_type": "code",
        "colab": {
          "base_uri": "https://localhost:8080/",
          "height": 279
        },
        "outputId": "6eb4b32c-96b4-43a2-ef9b-fd43c2c707cc"
      },
      "source": [
        "xs = df[\"NOX\"]\n",
        "ys = df[\"TAX\"]\n",
        "\n",
        "plt.scatter(xs, ys)\n",
        "plt.xlabel(\"NOX\")\n",
        "plt.ylabel(\"TAX\")\n",
        "plt.show()\n"
      ],
      "execution_count": 5,
      "outputs": [
        {
          "output_type": "display_data",
          "data": {
            "image/png": "[encoded data removed]",
            "text/plain": [
              "<Figure size 432x288 with 1 Axes>"
            ]
          },
          "metadata": {
            "tags": [],
            "needs_background": "light"
          }
        }
      ]
    },
    {
      "cell_type": "markdown",
      "metadata": {
        "id": "KeS4ozhrkrN5",
        "colab_type": "text"
      },
      "source": [
        "Standardization --->"
      ]
    },
    {
      "cell_type": "code",
      "metadata": {
        "id": "t-cQLvqRkYjf",
        "colab_type": "code",
        "colab": {
          "base_uri": "https://localhost:8080/",
          "height": 541
        },
        "outputId": "2bf60c66-f49f-4480-e653-7438242f4aa3"
      },
      "source": [
        "xs = df[\"NOX\"]\n",
        "ys = df[\"TAX\"]\n",
        "plt.scatter(xs, ys, color='b')\n",
        "plt.xlabel(\"NOX\")\n",
        "plt.ylabel(\"TAX\")\n",
        "plt.show()\n",
        "\n",
        "xs = df[\"NOX\"]\n",
        "mean = np.mean(xs)\n",
        "std = np.std(xs)\n",
        "xs = [(x - mean) / std for x in xs]\n",
        "\n",
        "ys = df[\"TAX\"]\n",
        "mean = np.mean(ys)\n",
        "std = np.std(ys)\n",
        "ys = [(y - mean) / std for y in ys]\n",
        "\n",
        "plt.scatter(xs, ys, color='r')\n",
        "plt.xlabel(\"NOX standardized\")\n",
        "plt.ylabel(\"TAX standardized\")\n",
        "plt.show()"
      ],
      "execution_count": 26,
      "outputs": [
        {
          "output_type": "display_data",
          "data": {
            "image/png": "[encoded data removed]",
            "text/plain": [
              "<Figure size 432x288 with 1 Axes>"
            ]
          },
          "metadata": {
            "tags": [],
            "needs_background": "light"
          }
        },
        {
          "output_type": "display_data",
          "data": {
            "image/png": "[encoded data removed]",
            "text/plain": [
              "<Figure size 432x288 with 1 Axes>"
            ]
          },
          "metadata": {
            "tags": [],
            "needs_background": "light"
          }
        }
      ]
    },
    {
      "cell_type": "code",
      "metadata": {
        "id": "IzxpNw8jkils",
        "colab_type": "code",
        "colab": {
          "base_uri": "https://localhost:8080/",
          "height": 279
        },
        "outputId": "4c918d0f-98b2-464e-bddf-c42cc681153b"
      },
      "source": [
        "\n",
        "\n",
        "from sklearn import preprocessing\n",
        "\n",
        "xs = preprocessing.scale(df[\"NOX\"])\n",
        "ys = preprocessing.scale(df[\"TAX\"])\n",
        "\n",
        "plt.scatter(xs, ys, color='r')\n",
        "plt.xlabel(\"NOX standardized\")\n",
        "plt.ylabel(\"TAX standardized\")\n",
        "plt.show()\n",
        "\n"
      ],
      "execution_count": 27,
      "outputs": [
        {
          "output_type": "display_data",
          "data": {
            "image/png": "[encoded data removed]",
            "text/plain": [
              "<Figure size 432x288 with 1 Axes>"
            ]
          },
          "metadata": {
            "tags": [],
            "needs_background": "light"
          }
        }
      ]
    },
    {
      "cell_type": "markdown",
      "metadata": {
        "id": "qG0wAN9hkvkP",
        "colab_type": "text"
      },
      "source": [
        "Min-Max Scaler --->"
      ]
    },
    {
      "cell_type": "code",
      "metadata": {
        "id": "12GgENe9kkuu",
        "colab_type": "code",
        "colab": {
          "base_uri": "https://localhost:8080/",
          "height": 541
        },
        "outputId": "e84525fc-86e9-49c3-ff70-786f552881ac"
      },
      "source": [
        "xs = df[\"NOX\"]\n",
        "ys = df[\"TAX\"]\n",
        "plt.scatter(xs, ys, color='b')\n",
        "plt.xlabel(\"NOX\")\n",
        "plt.ylabel(\"TAX\")\n",
        "plt.show()\n",
        "\n",
        "xs = df[\"NOX\"]\n",
        "xmin = np.min(xs)\n",
        "xmax = np.max(xs)\n",
        "xs = [(x - xmin) / (xmax - xmin) for x in xs]\n",
        "\n",
        "ys = df[\"TAX\"]\n",
        "ymin = np.min(ys)\n",
        "ymax = np.max(ys)\n",
        "ys = [(y - ymin) / (ymax - ymin) for y in ys]\n",
        "\n",
        "plt.scatter(xs, ys, color='r')\n",
        "plt.xlabel(\"NOX Min-Max Scaled\")\n",
        "plt.ylabel(\"TAX Min-Max Scaled\")\n",
        "plt.show()"
      ],
      "execution_count": 28,
      "outputs": [
        {
          "output_type": "display_data",
          "data": {
            "image/png": "[encoded data removed]",
            "text/plain": [
              "<Figure size 432x288 with 1 Axes>"
            ]
          },
          "metadata": {
            "tags": [],
            "needs_background": "light"
          }
        },
        {
          "output_type": "display_data",
          "data": {
            "image/png": "[encoded data removed]",
            "text/plain": [
              "<Figure size 432x288 with 1 Axes>"
            ]
          },
          "metadata": {
            "tags": [],
            "needs_background": "light"
          }
        }
      ]
    },
    {
      "cell_type": "code",
      "metadata": {
        "id": "NSleQsX1k4o3",
        "colab_type": "code",
        "colab": {
          "base_uri": "https://localhost:8080/",
          "height": 279
        },
        "outputId": "31263976-cb0d-4924-ab5e-6aa229d8cc9a"
      },
      "source": [
        "from sklearn import preprocessing\n",
        "\n",
        "scaler = preprocessing.MinMaxScaler()\n",
        "\n",
        "xs = scaler.fit_transform(df[[\"NOX\"]])\n",
        "ys = scaler.fit_transform(df[[\"TAX\"]])\n",
        "\n",
        "plt.scatter(xs, ys, color='r')\n",
        "plt.xlabel(\"NOX Min-Max Scaled\")\n",
        "plt.ylabel(\"TAX Min-Max Scaled\")\n",
        "plt.show()"
      ],
      "execution_count": 29,
      "outputs": [
        {
          "output_type": "display_data",
          "data": {
            "image/png": "[encoded data removed]",
            "text/plain": [
              "<Figure size 432x288 with 1 Axes>"
            ]
          },
          "metadata": {
            "tags": [],
            "needs_background": "light"
          }
        }
      ]
    },
    {
      "cell_type": "code",
      "metadata": {
        "id": "31SFEEJqk6pT",
        "colab_type": "code",
        "colab": {}
      },
      "source": [
        ""
      ],
      "execution_count": 0,
      "outputs": []
    },
    {
      "cell_type": "markdown",
      "metadata": {
        "id": "kAAwBePVl9Vz",
        "colab_type": "text"
      },
      "source": [
        "Linear regression"
      ]
    },
    {
      "cell_type": "code",
      "metadata": {
        "id": "fhKwGF4ll_ya",
        "colab_type": "code",
        "colab": {
          "base_uri": "https://localhost:8080/",
          "height": 296
        },
        "outputId": "101a70a8-0b25-4ab9-f5f8-02cda168b5ad"
      },
      "source": [
        "df = pd.DataFrame(boston.data, columns=boston.feature_names)\n",
        "\n",
        "scaler = preprocessing.StandardScaler()\n",
        "#X = df\n",
        "X = scaler.fit_transform(df)\n",
        "y = boston.target\n",
        "\n",
        "lm = linear_model.LinearRegression()\n",
        "model = lm.fit(X, y)\n",
        "predictions = lm.predict(X)\n",
        "\n",
        "plt.scatter(y, predictions)\n",
        "plt.xlabel(\"True Value\")\n",
        "plt.ylabel(\"Predicted Value\")\n",
        "\n",
        "plt.show()\n",
        "print (\"r^2:\", model.score(X, y))"
      ],
      "execution_count": 31,
      "outputs": [
        {
          "output_type": "display_data",
          "data": {
            "image/png": "[encoded data removed]",
            "text/plain": [
              "<Figure size 432x288 with 1 Axes>"
            ]
          },
          "metadata": {
            "tags": [],
            "needs_background": "light"
          }
        },
        {
          "output_type": "stream",
          "text": [
            "r^2: 0.7406426641094095\n"
          ],
          "name": "stdout"
        }
      ]
    },
    {
      "cell_type": "code",
      "metadata": {
        "id": "2jx7J-qWmQx0",
        "colab_type": "code",
        "colab": {
          "base_uri": "https://localhost:8080/",
          "height": 587
        },
        "outputId": "460294fb-9a5c-4c43-9eb0-d866ffc6aa6b"
      },
      "source": [
        "# Stochastic Regressor -- scaling makes a huge difference\n",
        "\n",
        "X = df\n",
        "y = boston.target\n",
        "\n",
        "lm = linear_model.SGDRegressor()\n",
        "model = lm.fit(X, y)\n",
        "predictions = lm.predict(X)\n",
        "\n",
        "plt.scatter(y, predictions)\n",
        "plt.xlabel(\"True Value\")\n",
        "plt.ylabel(\"Predicted Value\")\n",
        "\n",
        "plt.show()\n",
        "print (\"Model score:\", model.score(X, y))\n",
        "\n",
        "# Scaled\n",
        "\n",
        "scaler = preprocessing.StandardScaler()\n",
        "X = scaler.fit_transform(df)\n",
        "y = boston.target\n",
        "\n",
        "lm = linear_model.SGDRegressor()\n",
        "model = lm.fit(X, y)\n",
        "predictions = lm.predict(X)\n",
        "\n",
        "plt.scatter(y, predictions)\n",
        "plt.xlabel(\"True Value\")\n",
        "plt.ylabel(\"Predicted Value\")\n",
        "\n",
        "plt.show()\n",
        "print (\"Model score:\", model.score(X, y))\n"
      ],
      "execution_count": 32,
      "outputs": [
        {
          "output_type": "display_data",
          "data": {
            "image/png": "[encoded data removed]",
            "text/plain": [
              "<Figure size 432x288 with 1 Axes>"
            ]
          },
          "metadata": {
            "tags": [],
            "needs_background": "light"
          }
        },
        {
          "output_type": "stream",
          "text": [
            "Model score: -3.8014413043931316e+26\n"
          ],
          "name": "stdout"
        },
        {
          "output_type": "display_data",
          "data": {
            "image/png": "[encoded data removed]",
            "text/plain": [
              "<Figure size 432x288 with 1 Axes>"
            ]
          },
          "metadata": {
            "tags": [],
            "needs_background": "light"
          }
        },
        {
          "output_type": "stream",
          "text": [
            "Model score: 0.7402731153789208\n"
          ],
          "name": "stdout"
        }
      ]
    },
    {
      "cell_type": "code",
      "metadata": {
        "id": "7cyavptp5an2",
        "colab_type": "code",
        "colab": {
          "base_uri": "https://localhost:8080/",
          "height": 69
        },
        "outputId": "93085d80-c444-47d0-e845-1ea9488573cf"
      },
      "source": [
        "from sklearn.metrics import mean_absolute_error, mean_squared_error\n",
        "# calculate MAE, MSE, RMSE\n",
        "print(\"MAE\", mean_absolute_error(y, predictions))\n",
        "print(\"MSE\",mean_squared_error(y, predictions))\n",
        "print(\"RMSE\",np.sqrt(mean_squared_error(y, predictions)))"
      ],
      "execution_count": 33,
      "outputs": [
        {
          "output_type": "stream",
          "text": [
            "MAE 3.2714353181951163\n",
            "MSE 21.926028321535117\n",
            "RMSE 4.682523712864156\n"
          ],
          "name": "stdout"
        }
      ]
    }
  ]
}